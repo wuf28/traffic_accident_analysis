{
 "cells": [
  {
   "cell_type": "code",
   "execution_count": 1,
   "metadata": {
    "colab": {
     "base_uri": "https://localhost:8080/",
     "height": 367
    },
    "colab_type": "code",
    "id": "14dYVAVpP6Hn",
    "outputId": "c0d4f86a-9957-4af5-8f2a-95db470c6961"
   },
   "outputs": [
    {
     "name": "stdout",
     "output_type": "stream",
     "text": [
      "\n",
      "Total Population involed in all traffic accidents:  6772563\n",
      "\n",
      "Total number of all traffic accidents:  2570235\n"
     ]
    }
   ],
   "source": [
    "import local_load_data as ldata\n",
    "import local_param as pm\n",
    "import clean_data as cdata\n",
    "import warnings\n",
    "warnings.filterwarnings(\"ignore\")\n",
    "data_All_years = ldata.start_load(pm.csv_file)"
   ]
  },
  {
   "cell_type": "code",
   "execution_count": 2,
   "metadata": {
    "colab": {},
    "colab_type": "code",
    "id": "tYpFR2FIRHWi"
   },
   "outputs": [],
   "source": [
    "#data_years = ldata.get_TrafficData_CSV_year(data_All_years,pm.y_start,pm.y_end)"
   ]
  },
  {
   "cell_type": "code",
   "execution_count": 3,
   "metadata": {
    "colab": {},
    "colab_type": "code",
    "id": "9w2_L5UYaoEh"
   },
   "outputs": [
    {
     "name": "stdout",
     "output_type": "stream",
     "text": [
      "C_YEAR column data is distributed as below: \n",
      "\n",
      "2015    0.080390\n",
      "2016    0.078287\n",
      "2010    0.068627\n",
      "2011    0.067871\n",
      "2012    0.067041\n",
      "2004    0.064884\n",
      "2017    0.060462\n",
      "2014    0.059503\n",
      "2008    0.057412\n",
      "2013    0.052013\n",
      "2003    0.051197\n",
      "2009    0.049473\n",
      "2007    0.048054\n",
      "2001    0.042072\n",
      "2002    0.040886\n",
      "2006    0.040580\n",
      "2005    0.040144\n",
      "2000    0.015717\n",
      "1999    0.015386\n",
      "Name: C_YEAR, dtype: float64\n",
      "Total size : (1081854,)\n",
      "C_VEHS column data is distributed as below: \n",
      "\n",
      "2    1.0\n",
      "Name: C_VEHS, dtype: float64\n",
      "Total size : (1081854,)\n",
      "C_RSUR column data is distributed as below: \n",
      "\n",
      "1    0.709982\n",
      "2    0.205575\n",
      "3    0.036334\n",
      "5    0.034770\n",
      "4    0.011893\n",
      "6    0.000988\n",
      "7    0.000327\n",
      "8    0.000118\n",
      "9    0.000013\n",
      "Name: C_RSUR, dtype: float64\n",
      "Total size : (1081854,)\n",
      "C_RALN column data is distributed as below: \n",
      "\n",
      "1    0.817582\n",
      "2    0.102672\n",
      "3    0.044204\n",
      "4    0.025169\n",
      "5    0.006355\n",
      "6    0.004019\n",
      "Name: C_RALN, dtype: float64\n",
      "Total size : (1081854,)\n",
      "C_WTHR column data is distributed as below: \n",
      "\n",
      "1    0.734039\n",
      "3    0.115014\n",
      "2    0.085847\n",
      "4    0.049181\n",
      "6    0.010760\n",
      "5    0.003360\n",
      "7    0.001799\n",
      "Name: C_WTHR, dtype: float64\n",
      "Total size : (1081854,)\n",
      "C_CONF column data is distributed as below: \n",
      "\n",
      "21    0.368512\n",
      "35    0.217545\n",
      "36    0.164825\n",
      "33    0.103234\n",
      "22    0.047886\n",
      "31    0.045712\n",
      "23    0.012301\n",
      "06    0.009906\n",
      "24    0.008678\n",
      "32    0.008214\n",
      "34    0.008204\n",
      "03    0.001350\n",
      "25    0.001093\n",
      "04    0.001086\n",
      "41    0.001051\n",
      "02    0.000213\n",
      "01    0.000176\n",
      "05    0.000015\n",
      "Name: C_CONF, dtype: float64\n",
      "Total size : (1081854,)\n",
      "C_RCFG column data is distributed as below: \n",
      "\n",
      "02    0.633679\n",
      "01    0.288856\n",
      "03    0.066051\n",
      "05    0.006110\n",
      "04    0.002153\n",
      "08    0.001940\n",
      "06    0.000660\n",
      "09    0.000497\n",
      "07    0.000028\n",
      "10    0.000026\n",
      "Name: C_RCFG, dtype: float64\n",
      "Total size : (1081854,)\n",
      "V_TYPE column data is distributed as below: \n",
      "\n",
      "01    0.913641\n",
      "06    0.021398\n",
      "05    0.013979\n",
      "07    0.013530\n",
      "14    0.013412\n",
      "08    0.011488\n",
      "11    0.006227\n",
      "09    0.003717\n",
      "17    0.001521\n",
      "18    0.000354\n",
      "23    0.000331\n",
      "21    0.000201\n",
      "10    0.000201\n",
      "Name: V_TYPE, dtype: float64\n",
      "Total size : (1081854,)\n",
      "P_SEX column data is distributed as below: \n",
      "\n",
      "1    0.53099\n",
      "0    0.46901\n",
      "Name: P_SEX, dtype: float64\n",
      "Total size : (1081854,)\n",
      "V_AGE_GRP column data is distributed as below: \n",
      "\n",
      "1     0.340099\n",
      "2     0.326183\n",
      "3     0.236836\n",
      "4     0.075406\n",
      "5     0.015451\n",
      "6     0.003731\n",
      "7     0.001218\n",
      "8     0.000518\n",
      "9     0.000268\n",
      "10    0.000126\n",
      "11    0.000043\n",
      "13    0.000032\n",
      "12    0.000030\n",
      "14    0.000013\n",
      "15    0.000012\n",
      "17    0.000011\n",
      "16    0.000009\n",
      "20    0.000006\n",
      "19    0.000004\n",
      "18    0.000003\n",
      "21    0.000002\n",
      "Name: V_AGE_GRP, dtype: float64\n",
      "Total size : (1081854,)\n",
      "P_AGE_GRP column data is distributed as below: \n",
      "\n",
      "5    0.179027\n",
      "6    0.166121\n",
      "7    0.154897\n",
      "4    0.118803\n",
      "8    0.103412\n",
      "9    0.096146\n",
      "3    0.092211\n",
      "2    0.062092\n",
      "1    0.027291\n",
      "Name: P_AGE_GRP, dtype: float64\n",
      "Total size : (1081854,)\n",
      "P_PSN column data is distributed as below: \n",
      "\n",
      "11    0.688826\n",
      "13    0.176728\n",
      "23    0.055467\n",
      "21    0.044001\n",
      "22    0.015353\n",
      "12    0.010940\n",
      "32    0.004642\n",
      "96    0.002950\n",
      "33    0.000576\n",
      "31    0.000450\n",
      "98    0.000034\n",
      "97    0.000033\n",
      "Name: P_PSN, dtype: float64\n",
      "Total size : (1081854,)\n",
      "P_SAFE column data is distributed as below: \n",
      "\n",
      "02    0.959119\n",
      "01    0.013117\n",
      "09    0.012810\n",
      "13    0.009544\n",
      "12    0.005404\n",
      "10    0.000006\n",
      "Name: P_SAFE, dtype: float64\n",
      "Total size : (1081854,)\n",
      "P_USER column data is distributed as below: \n",
      "\n",
      "1    0.676330\n",
      "2    0.308737\n",
      "5    0.013412\n",
      "4    0.001521\n",
      "Name: P_USER, dtype: float64\n",
      "Total size : (1081854,)\n",
      "P_ISEV column data is distributed as below: \n",
      "\n",
      "2    0.531385\n",
      "1    0.468615\n",
      "Name: P_ISEV, dtype: float64\n",
      "Total size : (1081854,)\n"
     ]
    }
   ],
   "source": [
    "data_cleaned = cdata.data_clean_columns(data_All_years,pm.columns_clean,v_num=pm.v_num)\n",
    "data_cleaned = data_cleaned[data_cleaned['P_ISEV']!='3']\n",
    "data_cleaned['P_ISEV'].value_counts()\n",
    "data_cleaned = cdata.modify_data(data_cleaned,pm.columns_grp)\n",
    "cdata.get_data_stats(data_cleaned,pm.columns_stats)"
   ]
  },
  {
   "cell_type": "code",
   "execution_count": 4,
   "metadata": {
    "colab": {},
    "colab_type": "code",
    "id": "A863mrYp2dRT"
   },
   "outputs": [
    {
     "data": {
      "text/plain": [
       "array([1.06588515, 0.94178576])"
      ]
     },
     "execution_count": 4,
     "metadata": {},
     "output_type": "execute_result"
    }
   ],
   "source": [
    "import creat_ML_data as MLdata\n",
    "data_selected = MLdata.create_data_for_ML(data_cleaned, pm.traffic_data_headers, pm.dummy_fields, pm.regression)\n",
    "test_data, train_x, test_x, train_y, test_y = MLdata.train_test_data(data_selected,pm.time,pm.test_size,pm.year,pm.interval,pm.traffic_data_headers)\n",
    "from sklearn.utils import class_weight\n",
    "import numpy as np\n",
    "class_weight.compute_class_weight('balanced', np.unique(train_y), train_y)"
   ]
  },
  {
   "cell_type": "code",
   "execution_count": 5,
   "metadata": {
    "colab": {
     "base_uri": "https://localhost:8080/",
     "height": 224
    },
    "colab_type": "code",
    "id": "QrHb8tSP3Od_",
    "outputId": "fc80f755-b3d0-4c6f-da1f-ee5650a3f740"
   },
   "outputs": [
    {
     "name": "stdout",
     "output_type": "stream",
     "text": [
      "1：No Injury\n",
      " 2:Injury\n",
      " 3:Fatal\n",
      "\n",
      "p:  l1, C=1.0  \n",
      "Logistic regression parameter {'C': 1.0, 'class_weight': 'balanced', 'dual': False, 'fit_intercept': True, 'intercept_scaling': 1, 'l1_ratio': None, 'max_iter': 100, 'multi_class': 'multinomial', 'n_jobs': None, 'penalty': 'l1', 'random_state': None, 'solver': 'saga', 'tol': 0.0001, 'verbose': 0, 'warm_start': False}\n",
      "Logistic regression Train Accuracy :  0.6255599182639853 \n",
      "\n",
      "Logistic regression Test Accuracy :  0.6275702863432756 \n",
      "\n",
      "p:  l2, C=1.0  \n",
      "Logistic regression parameter {'C': 1.0, 'class_weight': 'balanced', 'dual': False, 'fit_intercept': True, 'intercept_scaling': 1, 'l1_ratio': None, 'max_iter': 100, 'multi_class': 'multinomial', 'n_jobs': None, 'penalty': 'l2', 'random_state': None, 'solver': 'saga', 'tol': 0.0001, 'verbose': 0, 'warm_start': False}\n",
      "Logistic regression Train Accuracy :  0.6255530315029962 \n",
      "\n",
      "Logistic regression Test Accuracy :  0.6275702863432756 \n",
      "\n"
     ]
    }
   ],
   "source": [
    "import LR_model_present_2y as LRmp\n",
    "import Tree_model_present as Tmp\n",
    "import warnings\n",
    "warnings.filterwarnings(\"ignore\")\n",
    "%matplotlib inline\n",
    "if pm.regression =='lr':\n",
    "  file_name = 't_{}_tst{}_trn{}_Csize_{}_pnt_{}_cw_{}_mltc_{}_svr_{}_cv_{}'.format(pm.time,pm.year,pm.interval,len(pm.C),pm.penalty,pm.classweight,pm.multi_class,pm.solver,pm.cv)\n",
    "  result, all_model = LRmp.build_model_LR(train_x,train_y,test_x,test_y,pm.C,pm.penalty,pm.classweight,pm.multi_class,pm.solver,pm.cv)\n",
    "elif pm.regression =='tree':\n",
    "  file_name = 't_{}_tst{}_trn{}_dep_{}_splt_{}_crt_{}_cw_{}'.format(pm.time,pm.year,pm.interval,pm.max_dep,pm.split_type,pm.crt_type,pm.classweight)\n",
    "  result, all_model = Tmp.build_model_tree(train_x,train_y,test_x,test_y,pm.max_dep,pm.split_type,pm.crt_type,pm.classweight)"
   ]
  },
  {
   "cell_type": "code",
   "execution_count": 10,
   "metadata": {},
   "outputs": [
    {
     "name": "stdout",
     "output_type": "stream",
     "text": [
      "sev_T1_P10.6430484451780281sev_T2_P2:0.6101075539808315\n"
     ]
    }
   ],
   "source": [
    "from sklearn.metrics import confusion_matrix\n",
    "cm_test = confusion_matrix(train_y, all_model[0].predict(train_x))\n",
    "print('sev_T1_P1'+str(cm_test[0,0]/np.sum(cm_test[0]))+'sev_T2_P2:'+str(cm_test[1,1]/np.sum(cm_test[1])))"
   ]
  },
  {
   "cell_type": "code",
   "execution_count": 6,
   "metadata": {},
   "outputs": [
    {
     "ename": "IndexError",
     "evalue": "index 2 is out of bounds for axis 1 with size 2",
     "output_type": "error",
     "traceback": [
      "\u001b[0;31m---------------------------------------------------------------------------\u001b[0m",
      "\u001b[0;31mIndexError\u001b[0m                                Traceback (most recent call last)",
      "\u001b[0;32m<ipython-input-6-5d517e133d81>\u001b[0m in \u001b[0;36m<module>\u001b[0;34m\u001b[0m\n\u001b[1;32m      4\u001b[0m \u001b[0mresult\u001b[0m\u001b[0;34m.\u001b[0m\u001b[0mto_csv\u001b[0m\u001b[0;34m(\u001b[0m\u001b[0mpm\u001b[0m\u001b[0;34m.\u001b[0m\u001b[0mregression\u001b[0m\u001b[0;34m+\u001b[0m\u001b[0;34m'_accuracy_result'\u001b[0m\u001b[0;34m+\u001b[0m\u001b[0mfile_name\u001b[0m\u001b[0;34m+\u001b[0m\u001b[0;34m'.csv'\u001b[0m\u001b[0;34m)\u001b[0m\u001b[0;34m\u001b[0m\u001b[0;34m\u001b[0m\u001b[0m\n\u001b[1;32m      5\u001b[0m \u001b[0;32mimport\u001b[0m \u001b[0mlocal_Result_Analysis\u001b[0m \u001b[0;32mas\u001b[0m \u001b[0mRA\u001b[0m\u001b[0;34m\u001b[0m\u001b[0;34m\u001b[0m\u001b[0m\n\u001b[0;32m----> 6\u001b[0;31m \u001b[0mallmodel_Acc_error_mean_sqrt\u001b[0m\u001b[0;34m,\u001b[0m\u001b[0mallmodel_victim_error_mean_sqrt\u001b[0m\u001b[0;34m,\u001b[0m\u001b[0mallmodel_Acc_error_mean\u001b[0m\u001b[0;34m,\u001b[0m\u001b[0mallmodel_victim_error_mean\u001b[0m \u001b[0;34m=\u001b[0m \u001b[0mRA\u001b[0m\u001b[0;34m.\u001b[0m\u001b[0mcompare_model\u001b[0m\u001b[0;34m(\u001b[0m\u001b[0mtest_data\u001b[0m\u001b[0;34m,\u001b[0m \u001b[0mtest_x\u001b[0m\u001b[0;34m,\u001b[0m \u001b[0mall_model\u001b[0m\u001b[0;34m,\u001b[0m\u001b[0mpm\u001b[0m\u001b[0;34m.\u001b[0m\u001b[0mmoney_path\u001b[0m\u001b[0;34m)\u001b[0m\u001b[0;34m\u001b[0m\u001b[0;34m\u001b[0m\u001b[0m\n\u001b[0m\u001b[1;32m      7\u001b[0m \u001b[0mallmodel_Acc_error_mean_sqrt\u001b[0m\u001b[0;34m.\u001b[0m\u001b[0mto_csv\u001b[0m\u001b[0;34m(\u001b[0m\u001b[0mfile_name\u001b[0m\u001b[0;34m+\u001b[0m\u001b[0;34m'allmodel_Acc_error_mean_sqrt.csv'\u001b[0m\u001b[0;34m)\u001b[0m\u001b[0;34m\u001b[0m\u001b[0;34m\u001b[0m\u001b[0m\n\u001b[1;32m      8\u001b[0m \u001b[0mallmodel_victim_error_mean_sqrt\u001b[0m\u001b[0;34m.\u001b[0m\u001b[0mto_csv\u001b[0m\u001b[0;34m(\u001b[0m\u001b[0mfile_name\u001b[0m\u001b[0;34m+\u001b[0m\u001b[0;34m'allmodel_victim_error_mean_sqrt.csv'\u001b[0m\u001b[0;34m)\u001b[0m\u001b[0;34m\u001b[0m\u001b[0;34m\u001b[0m\u001b[0m\n",
      "\u001b[0;32m~/Desktop/research/traffic_accident_analysis/local_Result_Analysis.py\u001b[0m in \u001b[0;36mcompare_model\u001b[0;34m(test_data, test_x, model, url_path)\u001b[0m\n\u001b[1;32m    136\u001b[0m   \u001b[0mAccident_Type_Error\u001b[0m \u001b[0;34m=\u001b[0m \u001b[0;34m[\u001b[0m\u001b[0;34m]\u001b[0m\u001b[0;34m\u001b[0m\u001b[0;34m\u001b[0m\u001b[0m\n\u001b[1;32m    137\u001b[0m   \u001b[0;32mfor\u001b[0m \u001b[0mm\u001b[0m \u001b[0;32min\u001b[0m \u001b[0mmodel\u001b[0m\u001b[0;34m:\u001b[0m\u001b[0;34m\u001b[0m\u001b[0;34m\u001b[0m\u001b[0m\n\u001b[0;32m--> 138\u001b[0;31m     \u001b[0mAcc_Cost\u001b[0m\u001b[0;34m,\u001b[0m\u001b[0mAcc_error\u001b[0m\u001b[0;34m,\u001b[0m\u001b[0mvictim_error\u001b[0m \u001b[0;34m=\u001b[0m \u001b[0mcost_prediction_money\u001b[0m\u001b[0;34m(\u001b[0m\u001b[0mtest_data\u001b[0m\u001b[0;34m,\u001b[0m\u001b[0mtest_x\u001b[0m\u001b[0;34m,\u001b[0m\u001b[0mm\u001b[0m\u001b[0;34m,\u001b[0m\u001b[0murl_path\u001b[0m\u001b[0;34m)\u001b[0m\u001b[0;34m\u001b[0m\u001b[0;34m\u001b[0m\u001b[0m\n\u001b[0m\u001b[1;32m    139\u001b[0m     \u001b[0mprint\u001b[0m\u001b[0;34m(\u001b[0m\u001b[0;34m'\\nmodel {}: \\n'\u001b[0m\u001b[0;34m.\u001b[0m\u001b[0mformat\u001b[0m\u001b[0;34m(\u001b[0m\u001b[0mi\u001b[0m\u001b[0;34m)\u001b[0m\u001b[0;34m,\u001b[0m\u001b[0mm\u001b[0m\u001b[0;34m.\u001b[0m\u001b[0mget_params\u001b[0m\u001b[0;34m(\u001b[0m\u001b[0;34m)\u001b[0m\u001b[0;34m)\u001b[0m\u001b[0;34m\u001b[0m\u001b[0;34m\u001b[0m\u001b[0m\n\u001b[1;32m    140\u001b[0m     \u001b[0mAcc_error_sqr\u001b[0m \u001b[0;34m=\u001b[0m \u001b[0mAcc_error\u001b[0m\u001b[0;34m**\u001b[0m\u001b[0;36m2\u001b[0m\u001b[0;34m\u001b[0m\u001b[0;34m\u001b[0m\u001b[0m\n",
      "\u001b[0;32m~/Desktop/research/traffic_accident_analysis/local_Result_Analysis.py\u001b[0m in \u001b[0;36mcost_prediction_money\u001b[0;34m(test_data, test_x, model, url_path)\u001b[0m\n\u001b[1;32m     98\u001b[0m \u001b[0;34m\u001b[0m\u001b[0m\n\u001b[1;32m     99\u001b[0m   \u001b[0mcost\u001b[0m \u001b[0;34m=\u001b[0m \u001b[0mpd\u001b[0m\u001b[0;34m.\u001b[0m\u001b[0mread_csv\u001b[0m\u001b[0;34m(\u001b[0m\u001b[0murl_path\u001b[0m\u001b[0;34m)\u001b[0m\u001b[0;34m\u001b[0m\u001b[0;34m\u001b[0m\u001b[0m\n\u001b[0;32m--> 100\u001b[0;31m   \u001b[0moutput\u001b[0m \u001b[0;34m=\u001b[0m \u001b[0mget_output_prob\u001b[0m\u001b[0;34m(\u001b[0m\u001b[0mtest_data\u001b[0m\u001b[0;34m,\u001b[0m\u001b[0mtest_x\u001b[0m\u001b[0;34m,\u001b[0m\u001b[0mmodel\u001b[0m\u001b[0;34m,\u001b[0m\u001b[0murl_path\u001b[0m\u001b[0;34m)\u001b[0m\u001b[0;34m\u001b[0m\u001b[0;34m\u001b[0m\u001b[0m\n\u001b[0m\u001b[1;32m    101\u001b[0m   \u001b[0mnum\u001b[0m \u001b[0;34m=\u001b[0m \u001b[0;32mlambda\u001b[0m \u001b[0ma\u001b[0m\u001b[0;34m:\u001b[0m \u001b[0mfloat\u001b[0m\u001b[0;34m(\u001b[0m\u001b[0ma\u001b[0m\u001b[0;34m.\u001b[0m\u001b[0mreplace\u001b[0m\u001b[0;34m(\u001b[0m\u001b[0;34m','\u001b[0m\u001b[0;34m,\u001b[0m\u001b[0;34m''\u001b[0m\u001b[0;34m)\u001b[0m\u001b[0;34m)\u001b[0m\u001b[0;34m\u001b[0m\u001b[0;34m\u001b[0m\u001b[0m\n\u001b[1;32m    102\u001b[0m   \u001b[0mDC_Victim\u001b[0m \u001b[0;34m=\u001b[0m \u001b[0;34m{\u001b[0m\u001b[0;34m'Fatal'\u001b[0m\u001b[0;34m:\u001b[0m\u001b[0mfloat\u001b[0m\u001b[0;34m(\u001b[0m\u001b[0mcost\u001b[0m\u001b[0;34m.\u001b[0m\u001b[0mloc\u001b[0m\u001b[0;34m[\u001b[0m\u001b[0;36m15\u001b[0m\u001b[0;34m,\u001b[0m\u001b[0;34m'Fatal'\u001b[0m\u001b[0;34m]\u001b[0m\u001b[0;34m)\u001b[0m\u001b[0;34m,\u001b[0m\u001b[0;34m'Injured'\u001b[0m\u001b[0;34m:\u001b[0m\u001b[0mfloat\u001b[0m\u001b[0;34m(\u001b[0m\u001b[0mcost\u001b[0m\u001b[0;34m.\u001b[0m\u001b[0mloc\u001b[0m\u001b[0;34m[\u001b[0m\u001b[0;36m15\u001b[0m\u001b[0;34m,\u001b[0m\u001b[0;34m'Injured'\u001b[0m\u001b[0;34m]\u001b[0m\u001b[0;34m)\u001b[0m\u001b[0;34m,\u001b[0m\u001b[0;34m'PDO'\u001b[0m\u001b[0;34m:\u001b[0m\u001b[0mfloat\u001b[0m\u001b[0;34m(\u001b[0m\u001b[0mcost\u001b[0m\u001b[0;34m.\u001b[0m\u001b[0mloc\u001b[0m\u001b[0;34m[\u001b[0m\u001b[0;36m15\u001b[0m\u001b[0;34m,\u001b[0m\u001b[0;34m'Property Damage Only'\u001b[0m\u001b[0;34m]\u001b[0m\u001b[0;34m)\u001b[0m\u001b[0;34m}\u001b[0m\u001b[0;34m\u001b[0m\u001b[0;34m\u001b[0m\u001b[0m\n",
      "\u001b[0;32m~/Desktop/research/traffic_accident_analysis/local_Result_Analysis.py\u001b[0m in \u001b[0;36mget_output_prob\u001b[0;34m(test_data, test_x, model, url_path)\u001b[0m\n\u001b[1;32m     77\u001b[0m   \u001b[0moutput\u001b[0m\u001b[0;34m.\u001b[0m\u001b[0mloc\u001b[0m\u001b[0;34m[\u001b[0m\u001b[0moutput\u001b[0m\u001b[0;34m[\u001b[0m\u001b[0;34m'P_ISEV_REAL'\u001b[0m\u001b[0;34m]\u001b[0m \u001b[0;34m==\u001b[0m \u001b[0;36m2\u001b[0m\u001b[0;34m,\u001b[0m \u001b[0;34m'Real_Injury_Prob'\u001b[0m\u001b[0;34m]\u001b[0m \u001b[0;34m=\u001b[0m \u001b[0;36m1\u001b[0m \u001b[0;31m#Actual probability of victim Injury\u001b[0m\u001b[0;34m\u001b[0m\u001b[0;34m\u001b[0m\u001b[0m\n\u001b[1;32m     78\u001b[0m \u001b[0;34m\u001b[0m\u001b[0m\n\u001b[0;32m---> 79\u001b[0;31m   \u001b[0moutput\u001b[0m\u001b[0;34m[\u001b[0m\u001b[0;34m'Prob_Fatal'\u001b[0m\u001b[0;34m]\u001b[0m \u001b[0;34m=\u001b[0m \u001b[0mtest_prob\u001b[0m\u001b[0;34m[\u001b[0m\u001b[0;34m:\u001b[0m\u001b[0;34m,\u001b[0m\u001b[0;36m2\u001b[0m\u001b[0;34m]\u001b[0m\u001b[0;34m\u001b[0m\u001b[0;34m\u001b[0m\u001b[0m\n\u001b[0m\u001b[1;32m     80\u001b[0m   \u001b[0moutput\u001b[0m\u001b[0;34m[\u001b[0m\u001b[0;34m'Real_Fatal_Prob'\u001b[0m\u001b[0;34m]\u001b[0m \u001b[0;34m=\u001b[0m \u001b[0;36m0\u001b[0m\u001b[0;34m\u001b[0m\u001b[0;34m\u001b[0m\u001b[0m\n\u001b[1;32m     81\u001b[0m   \u001b[0moutput\u001b[0m\u001b[0;34m.\u001b[0m\u001b[0mloc\u001b[0m\u001b[0;34m[\u001b[0m\u001b[0moutput\u001b[0m\u001b[0;34m[\u001b[0m\u001b[0;34m'P_ISEV_REAL'\u001b[0m\u001b[0;34m]\u001b[0m \u001b[0;34m==\u001b[0m \u001b[0;36m3\u001b[0m\u001b[0;34m,\u001b[0m \u001b[0;34m'Real_Fatal_Prob'\u001b[0m\u001b[0;34m]\u001b[0m \u001b[0;34m=\u001b[0m \u001b[0;36m1\u001b[0m \u001b[0;31m#Actual probability of victim Fatal\u001b[0m\u001b[0;34m\u001b[0m\u001b[0;34m\u001b[0m\u001b[0m\n",
      "\u001b[0;31mIndexError\u001b[0m: index 2 is out of bounds for axis 1 with size 2"
     ]
    }
   ],
   "source": [
    "orders = ['Accuracy']  + [col for col in result if col != 'Accuracy']\n",
    "result = result[orders]\n",
    "file_name = 't_{}_tst{}_trn{}_Csize_{}_pnt_{}_cw_{}_mltc_{}_svr_{}_cv_{}'.format(pm.time,pm.year,pm.interval,len(pm.C),pm.penalty,pm.classweight,pm.multi_class,pm.solver,pm.cv)\n",
    "result.to_csv(pm.regression+'_accuracy_result'+file_name+'.csv') \n",
    "import local_Result_Analysis as RA\n",
    "allmodel_Acc_error_mean_sqrt,allmodel_victim_error_mean_sqrt,allmodel_Acc_error_mean,allmodel_victim_error_mean = RA.compare_model(test_data, test_x, all_model,pm.money_path)\n",
    "allmodel_Acc_error_mean_sqrt.to_csv(file_name+'allmodel_Acc_error_mean_sqrt.csv')\n",
    "allmodel_victim_error_mean_sqrt.to_csv(file_name+'allmodel_victim_error_mean_sqrt.csv')\n",
    "allmodel_Acc_error_mean.to_csv(file_name+'allmodel_Acc_error_mean.csv')\n",
    "allmodel_victim_error_mean.to_csv(file_name+'allmodel_victim_error_mean.csv')"
   ]
  },
  {
   "cell_type": "code",
   "execution_count": null,
   "metadata": {},
   "outputs": [],
   "source": []
  }
 ],
 "metadata": {
  "accelerator": "GPU",
  "colab": {
   "collapsed_sections": [],
   "name": "test.ipynb",
   "provenance": [],
   "toc_visible": true
  },
  "kernelspec": {
   "display_name": "Python 3",
   "language": "python",
   "name": "python3"
  },
  "language_info": {
   "codemirror_mode": {
    "name": "ipython",
    "version": 3
   },
   "file_extension": ".py",
   "mimetype": "text/x-python",
   "name": "python",
   "nbconvert_exporter": "python",
   "pygments_lexer": "ipython3",
   "version": "3.7.4"
  }
 },
 "nbformat": 4,
 "nbformat_minor": 4
}
