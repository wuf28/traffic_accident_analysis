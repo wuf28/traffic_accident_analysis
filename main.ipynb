{
 "cells": [
  {
   "cell_type": "code",
   "execution_count": 1,
   "metadata": {
    "colab": {
     "base_uri": "https://localhost:8080/",
     "height": 367
    },
    "colab_type": "code",
    "id": "14dYVAVpP6Hn",
    "outputId": "c0d4f86a-9957-4af5-8f2a-95db470c6961"
   },
   "outputs": [
    {
     "name": "stdout",
     "output_type": "stream",
     "text": [
      "Current Time = 031020_00_17\n"
     ]
    }
   ],
   "source": [
    "from datetime import datetime\n",
    "import os\n",
    "import time\n",
    "start_time = time.time()\n",
    "now = datetime.now()\n",
    "folderdir = now.strftime(\"%D_%H_%M\").replace('/','')\n",
    "print(\"Current Time =\", folderdir)\n",
    "os.makedirs(folderdir) "
   ]
  },
  {
   "cell_type": "code",
   "execution_count": 2,
   "metadata": {},
   "outputs": [
    {
     "name": "stdout",
     "output_type": "stream",
     "text": [
      "\n",
      "Total Population involed in all traffic accidents:  6772563\n",
      "\n",
      "Total number of all traffic accidents:  2570235\n"
     ]
    }
   ],
   "source": [
    "import local_load_data as ldata\n",
    "import local_param as pm\n",
    "import clean_data as cdata\n",
    "import warnings\n",
    "warnings.filterwarnings(\"ignore\")\n",
    "data_All_years = ldata.start_load(pm.csv_file)\n",
    "#data_years = ldata.get_TrafficData_CSV_year(data_All_years,pm.y_start,pm.y_end)"
   ]
  },
  {
   "cell_type": "code",
   "execution_count": 3,
   "metadata": {
    "colab": {},
    "colab_type": "code",
    "id": "9w2_L5UYaoEh"
   },
   "outputs": [
    {
     "name": "stdout",
     "output_type": "stream",
     "text": [
      "C_YEAR column data is distributed as below: \n",
      "\n",
      "2015    0.079153\n",
      "2016    0.077969\n",
      "2010    0.067508\n",
      "2011    0.067434\n",
      "2012    0.067217\n",
      "2004    0.065796\n",
      "2017    0.060142\n",
      "2008    0.058724\n",
      "2014    0.058643\n",
      "2003    0.051425\n",
      "2013    0.051214\n",
      "2009    0.049559\n",
      "2007    0.049163\n",
      "2001    0.041607\n",
      "2002    0.041177\n",
      "2005    0.041134\n",
      "2006    0.040887\n",
      "2000    0.015955\n",
      "1999    0.015293\n",
      "Name: C_YEAR, dtype: float64\n",
      "Total size : (1397617,)\n",
      "C_VEHS column data is distributed as below: \n",
      "\n",
      "2    0.777808\n",
      "1    0.222192\n",
      "Name: C_VEHS, dtype: float64\n",
      "Total size : (1397617,)\n",
      "C_RSUR column data is distributed as below: \n",
      "\n",
      "1    0.679174\n",
      "2    0.195049\n",
      "5    0.056241\n",
      "3    0.046207\n",
      "4    0.016623\n",
      "6    0.005491\n",
      "7    0.000946\n",
      "8    0.000212\n",
      "9    0.000057\n",
      "Name: C_RSUR, dtype: float64\n",
      "Total size : (1397617,)\n",
      "C_RALN column data is distributed as below: \n",
      "\n",
      "1    0.760717\n",
      "2    0.101622\n",
      "3    0.078927\n",
      "4    0.044743\n",
      "5    0.008082\n",
      "6    0.005909\n",
      "Name: C_RALN, dtype: float64\n",
      "Total size : (1397617,)\n",
      "C_WTHR column data is distributed as below: \n",
      "\n",
      "1    0.707189\n",
      "3    0.111345\n",
      "2    0.094039\n",
      "4    0.063085\n",
      "6    0.015526\n",
      "5    0.005824\n",
      "7    0.002992\n",
      "Name: C_WTHR, dtype: float64\n",
      "Total size : (1397617,)\n",
      "C_CONF column data is distributed as below: \n",
      "\n",
      "21    0.285650\n",
      "35    0.169376\n",
      "36    0.127865\n",
      "06    0.098510\n",
      "33    0.080425\n",
      "04    0.053609\n",
      "03    0.039504\n",
      "31    0.038085\n",
      "22    0.037206\n",
      "02    0.028242\n",
      "23    0.009574\n",
      "24    0.006910\n",
      "32    0.006651\n",
      "34    0.006533\n",
      "01    0.006414\n",
      "05    0.003613\n",
      "25    0.001011\n",
      "41    0.000822\n",
      "Name: C_CONF, dtype: float64\n",
      "Total size : (1397617,)\n",
      "C_RCFG column data is distributed as below: \n",
      "\n",
      "02    0.523043\n",
      "01    0.406786\n",
      "03    0.056151\n",
      "05    0.007677\n",
      "04    0.002465\n",
      "08    0.002277\n",
      "06    0.000942\n",
      "09    0.000527\n",
      "07    0.000097\n",
      "10    0.000034\n",
      "Name: C_RCFG, dtype: float64\n",
      "Total size : (1397617,)\n",
      "V_TYPE column data is distributed as below: \n",
      "\n",
      "01    0.902109\n",
      "06    0.023031\n",
      "14    0.021960\n",
      "07    0.013758\n",
      "05    0.012855\n",
      "08    0.012843\n",
      "11    0.007737\n",
      "09    0.003332\n",
      "17    0.001185\n",
      "18    0.000418\n",
      "23    0.000412\n",
      "10    0.000183\n",
      "21    0.000176\n",
      "Name: V_TYPE, dtype: float64\n",
      "Total size : (1397617,)\n",
      "P_SEX column data is distributed as below: \n",
      "\n",
      "1    0.54082\n",
      "0    0.45918\n",
      "Name: P_SEX, dtype: float64\n",
      "Total size : (1397617,)\n",
      "V_AGE_GRP column data is distributed as below: \n",
      "\n",
      "1     0.329296\n",
      "2     0.325688\n",
      "3     0.241367\n",
      "4     0.079195\n",
      "5     0.017091\n",
      "6     0.004480\n",
      "7     0.001566\n",
      "8     0.000674\n",
      "9     0.000294\n",
      "10    0.000148\n",
      "11    0.000057\n",
      "13    0.000037\n",
      "12    0.000034\n",
      "15    0.000018\n",
      "14    0.000014\n",
      "16    0.000014\n",
      "17    0.000014\n",
      "20    0.000005\n",
      "18    0.000005\n",
      "19    0.000003\n",
      "21    0.000001\n",
      "Name: V_AGE_GRP, dtype: float64\n",
      "Total size : (1397617,)\n",
      "P_AGE_GRP column data is distributed as below: \n",
      "\n",
      "5    0.180429\n",
      "6    0.159653\n",
      "7    0.147409\n",
      "4    0.129582\n",
      "3    0.109823\n",
      "8    0.098566\n",
      "9    0.090619\n",
      "2    0.058894\n",
      "1    0.025024\n",
      "Name: P_AGE_GRP, dtype: float64\n",
      "Total size : (1397617,)\n",
      "P_PSN column data is distributed as below: \n",
      "\n",
      "11    0.690774\n",
      "13    0.173661\n",
      "23    0.053744\n",
      "21    0.043536\n",
      "22    0.015863\n",
      "12    0.011659\n",
      "32    0.004974\n",
      "96    0.004606\n",
      "33    0.000619\n",
      "31    0.000483\n",
      "98    0.000041\n",
      "97    0.000039\n",
      "Name: P_PSN, dtype: float64\n",
      "Total size : (1397617,)\n",
      "P_SAFE column data is distributed as below: \n",
      "\n",
      "02    0.934806\n",
      "01    0.027068\n",
      "09    0.020585\n",
      "13    0.010990\n",
      "12    0.006543\n",
      "10    0.000008\n",
      "Name: P_SAFE, dtype: float64\n",
      "Total size : (1397617,)\n",
      "P_USER column data is distributed as below: \n",
      "\n",
      "1    0.672078\n",
      "2    0.304777\n",
      "5    0.021960\n",
      "4    0.001185\n",
      "Name: P_USER, dtype: float64\n",
      "Total size : (1397617,)\n",
      "P_ISEV column data is distributed as below: \n",
      "\n",
      "2    0.602219\n",
      "1    0.390309\n",
      "3    0.007472\n",
      "Name: P_ISEV, dtype: float64\n",
      "Total size : (1397617,)\n"
     ]
    }
   ],
   "source": [
    "data_cleaned = cdata.data_clean_columns(data_All_years,pm.columns_clean,v_num=pm.v_num)\n",
    "data_cleaned = cdata.modify_data(data_cleaned,pm.columns_grp)\n",
    "cdata.get_data_stats(data_cleaned,pm.columns_stats)"
   ]
  },
  {
   "cell_type": "code",
   "execution_count": 4,
   "metadata": {
    "colab": {},
    "colab_type": "code",
    "id": "ZTMmirJK5IQz"
   },
   "outputs": [],
   "source": [
    "import creat_ML_data as MLdata\n",
    "data_selected = MLdata.create_data_for_ML(data_cleaned, pm.traffic_data_headers, pm.dummy_fields, pm.regression)"
   ]
  },
  {
   "cell_type": "code",
   "execution_count": 5,
   "metadata": {
    "colab": {},
    "colab_type": "code",
    "id": "A863mrYp2dRT"
   },
   "outputs": [
    {
     "data": {
      "text/plain": [
       "array([ 0.85299215,  0.55397938, 44.37556164])"
      ]
     },
     "execution_count": 5,
     "metadata": {},
     "output_type": "execute_result"
    }
   ],
   "source": [
    "data_selected = MLdata.create_data_for_ML(data_cleaned, pm.traffic_data_headers, pm.dummy_fields, pm.regression)\n",
    "test_data, train_x, test_x, train_y, test_y = MLdata.train_test_data(data_selected,pm.time,pm.test_size,pm.year,pm.interval,pm.traffic_data_headers)\n",
    "from sklearn.utils import class_weight\n",
    "import numpy as np\n",
    "class_weight.compute_class_weight('balanced', np.unique(train_y), train_y)"
   ]
  },
  {
   "cell_type": "code",
   "execution_count": null,
   "metadata": {
    "colab": {},
    "colab_type": "code",
    "id": "ULtvC3NN5TlJ"
   },
   "outputs": [
    {
     "name": "stdout",
     "output_type": "stream",
     "text": [
      "1：No Injury\n",
      " 2:Injury\n",
      " 3:Fatal\n",
      "\n",
      "p:  0, C=10  ,cv=5\n"
     ]
    }
   ],
   "source": [
    "import LR_model_present as LRmp\n",
    "import Tree_model_present as Tmp\n",
    "import warnings\n",
    "warnings.filterwarnings(\"ignore\")\n",
    "%matplotlib inline\n",
    "if pm.regression =='lr':\n",
    "  file_name = 't_{}_tst{}_trn{}_Csize_{}_pnt_{}_cw_{}_mltc_{}_svr_{}_cv_{}'.format(pm.time,pm.year,pm.interval,len(pm.C),pm.penalty,pm.classweight,pm.multi_class,pm.solver,pm.cv)\n",
    "  result, all_model = LRmp.build_model_LR(train_x,train_y,test_x,test_y,pm.C,pm.penalty,pm.classweight,pm.multi_class,pm.solver,pm.cv)\n",
    "elif pm.regression =='tree':\n",
    "  file_name = 't_{}_tst{}_trn{}_dep_{}_splt_{}_crt_{}_cw_{}'.format(pm.time,pm.year,pm.interval,pm.max_dep,pm.split_type,pm.crt_type,pm.classweight)\n",
    "  result, all_model = Tmp.build_model_tree(train_x,train_y,test_x,test_y,pm.max_dep,pm.split_type,pm.crt_type,pm.classweight)"
   ]
  },
  {
   "cell_type": "code",
   "execution_count": null,
   "metadata": {},
   "outputs": [],
   "source": [
    "import get_models_parameter as gmp\n",
    "gmp.get_models_parameter(all_model,pm.regression,test_data)"
   ]
  },
  {
   "cell_type": "code",
   "execution_count": null,
   "metadata": {},
   "outputs": [],
   "source": [
    "orders = ['Accuracy']  + [col for col in result if col != 'Accuracy']\n",
    "result = result[orders]\n",
    "file_name = '{}\\t_{}_tst{}_trn{}_Csize_{}_pnt_{}_cw_{}_mltc_{}_svr_{}_cv_{}'.format(folderdir,pm.time,pm.year,pm.interval,len(pm.C),pm.penalty,pm.classweight,pm.multi_class,pm.solver,pm.cv)\n",
    "result.to_csv(file_name+pm.regression+'_accuracy_result'+'.csv') \n",
    "import local_Result_Analysis as RA\n",
    "allmodel_Acc_error_mean_sqrt,allmodel_victim_error_mean_sqrt,allmodel_Acc_error_mean,allmodel_victim_error_mean = RA.compare_model(test_data, test_x, all_model,pm.money_path)\n",
    "allmodel_Acc_error_mean_sqrt.to_csv(file_name+'allmodel_Acc_error_mean_sqrt.csv')\n",
    "allmodel_victim_error_mean_sqrt.to_csv(file_name+'allmodel_victim_error_mean_sqrt.csv')\n",
    "allmodel_Acc_error_mean.to_csv(file_name+'allmodel_Acc_error_mean.csv')\n",
    "allmodel_victim_error_mean.to_csv(file_name+'allmodel_victim_error_mean.csv')"
   ]
  },
  {
   "cell_type": "code",
   "execution_count": null,
   "metadata": {},
   "outputs": [],
   "source": [
    "print(\"--- %s seconds ---\" % (time.time() - start_time))"
   ]
  },
  {
   "cell_type": "code",
   "execution_count": null,
   "metadata": {},
   "outputs": [],
   "source": []
  }
 ],
 "metadata": {
  "accelerator": "GPU",
  "colab": {
   "collapsed_sections": [],
   "name": "test.ipynb",
   "provenance": [],
   "toc_visible": true
  },
  "kernelspec": {
   "display_name": "Python 3",
   "language": "python",
   "name": "python3"
  },
  "language_info": {
   "codemirror_mode": {
    "name": "ipython",
    "version": 3
   },
   "file_extension": ".py",
   "mimetype": "text/x-python",
   "name": "python",
   "nbconvert_exporter": "python",
   "pygments_lexer": "ipython3",
   "version": "3.7.4"
  }
 },
 "nbformat": 4,
 "nbformat_minor": 4
}
