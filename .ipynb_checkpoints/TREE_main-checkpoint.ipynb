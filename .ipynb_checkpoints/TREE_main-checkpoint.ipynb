{
 "cells": [
  {
   "cell_type": "code",
   "execution_count": 1,
   "metadata": {
    "colab": {
     "base_uri": "https://localhost:8080/",
     "height": 367
    },
    "colab_type": "code",
    "id": "14dYVAVpP6Hn",
    "outputId": "c0d4f86a-9957-4af5-8f2a-95db470c6961"
   },
   "outputs": [
    {
     "name": "stdout",
     "output_type": "stream",
     "text": [
      "\n",
      "Total Population involed in all traffic accidents:  6772563\n",
      "\n",
      "Total number of all traffic accidents:  2570235\n"
     ]
    }
   ],
   "source": [
    "import local_load_data as ldata\n",
    "import local_param as pm\n",
    "import clean_data as cdata\n",
    "import warnings\n",
    "warnings.filterwarnings(\"ignore\")\n",
    "data_All_years = ldata.start_load(pm.csv_file)"
   ]
  },
  {
   "cell_type": "code",
   "execution_count": 2,
   "metadata": {
    "colab": {},
    "colab_type": "code",
    "id": "tYpFR2FIRHWi"
   },
   "outputs": [],
   "source": [
    "#data_years = ldata.get_TrafficData_CSV_year(data_All_years,pm.y_start,pm.y_end)"
   ]
  },
  {
   "cell_type": "code",
   "execution_count": 3,
   "metadata": {
    "colab": {},
    "colab_type": "code",
    "id": "9w2_L5UYaoEh"
   },
   "outputs": [],
   "source": [
    "data_cleaned = cdata.data_clean_columns(data_All_years,pm.columns_clean,v_num=pm.v_num)"
   ]
  },
  {
   "cell_type": "code",
   "execution_count": 4,
   "metadata": {
    "colab": {},
    "colab_type": "code",
    "id": "SGE_ZRpNcrgf"
   },
   "outputs": [],
   "source": [
    "data_cleaned = cdata.modify_data(data_cleaned,pm.columns_grp)"
   ]
  },
  {
   "cell_type": "code",
   "execution_count": 5,
   "metadata": {
    "colab": {
     "base_uri": "https://localhost:8080/",
     "height": 34
    },
    "colab_type": "code",
    "id": "6k6KCxdLlXJl",
    "outputId": "6451b7ec-ab1d-47ac-b147-c5bd54a48344"
   },
   "outputs": [
    {
     "data": {
      "text/plain": [
       "(1087078,)"
      ]
     },
     "execution_count": 5,
     "metadata": {},
     "output_type": "execute_result"
    }
   ],
   "source": [
    "data_cleaned['P_ISEV'].shape"
   ]
  },
  {
   "cell_type": "code",
   "execution_count": 6,
   "metadata": {
    "colab": {
     "base_uri": "https://localhost:8080/",
     "height": 1000
    },
    "colab_type": "code",
    "id": "o9skFOf70Z23",
    "outputId": "ecb6d97e-18bd-4e01-e780-d44ebfda8472"
   },
   "outputs": [
    {
     "name": "stdout",
     "output_type": "stream",
     "text": [
      "C_YEAR column data is distributed as below: \n",
      "\n",
      "2015    0.080371\n",
      "2016    0.078234\n",
      "2010    0.068632\n",
      "2011    0.067850\n",
      "2012    0.067016\n",
      "2004    0.064925\n",
      "2017    0.060459\n",
      "2014    0.059459\n",
      "2008    0.057426\n",
      "2013    0.051959\n",
      "2003    0.051213\n",
      "2009    0.049444\n",
      "2007    0.048090\n",
      "2001    0.042086\n",
      "2002    0.040916\n",
      "2006    0.040626\n",
      "2005    0.040182\n",
      "2000    0.015711\n",
      "1999    0.015400\n",
      "Name: C_YEAR, dtype: float64\n",
      "Total size : (1087078,)\n",
      "C_VEHS column data is distributed as below: \n",
      "\n",
      "2    1.0\n",
      "Name: C_VEHS, dtype: float64\n",
      "Total size : (1087078,)\n",
      "C_RSUR column data is distributed as below: \n",
      "\n",
      "1    0.709814\n",
      "2    0.205385\n",
      "3    0.036427\n",
      "5    0.034963\n",
      "4    0.011940\n",
      "6    0.001008\n",
      "7    0.000332\n",
      "8    0.000118\n",
      "9    0.000013\n",
      "Name: C_RSUR, dtype: float64\n",
      "Total size : (1087078,)\n",
      "C_RALN column data is distributed as below: \n",
      "\n",
      "1    0.816733\n",
      "2    0.102767\n",
      "3    0.044640\n",
      "4    0.025428\n",
      "5    0.006392\n",
      "6    0.004039\n",
      "Name: C_RALN, dtype: float64\n",
      "Total size : (1087078,)\n",
      "C_WTHR column data is distributed as below: \n",
      "\n",
      "1    0.733776\n",
      "3    0.114865\n",
      "2    0.085958\n",
      "4    0.049301\n",
      "6    0.010884\n",
      "5    0.003391\n",
      "7    0.001825\n",
      "Name: C_WTHR, dtype: float64\n",
      "Total size : (1087078,)\n",
      "C_CONF column data is distributed as below: \n",
      "\n",
      "21    0.367022\n",
      "35    0.217549\n",
      "36    0.164391\n",
      "33    0.103099\n",
      "22    0.047813\n",
      "31    0.047723\n",
      "23    0.012294\n",
      "06    0.009950\n",
      "24    0.008655\n",
      "32    0.008285\n",
      "34    0.008195\n",
      "03    0.001376\n",
      "04    0.001095\n",
      "25    0.001093\n",
      "41    0.001056\n",
      "02    0.000212\n",
      "01    0.000176\n",
      "05    0.000015\n",
      "Name: C_CONF, dtype: float64\n",
      "Total size : (1087078,)\n",
      "C_RCFG column data is distributed as below: \n",
      "\n",
      "02    0.632439\n",
      "01    0.290277\n",
      "03    0.065874\n",
      "05    0.006114\n",
      "04    0.002147\n",
      "08    0.001932\n",
      "06    0.000665\n",
      "09    0.000495\n",
      "07    0.000031\n",
      "10    0.000026\n",
      "Name: C_RCFG, dtype: float64\n",
      "Total size : (1087078,)\n",
      "V_TYPE column data is distributed as below: \n",
      "\n",
      "01    0.913354\n",
      "06    0.021366\n",
      "05    0.013945\n",
      "14    0.013861\n",
      "07    0.013492\n",
      "08    0.011467\n",
      "11    0.006211\n",
      "09    0.003702\n",
      "17    0.001520\n",
      "18    0.000355\n",
      "23    0.000329\n",
      "10    0.000200\n",
      "21    0.000200\n",
      "Name: V_TYPE, dtype: float64\n",
      "Total size : (1087078,)\n",
      "P_SEX column data is distributed as below: \n",
      "\n",
      "1    0.531543\n",
      "0    0.468457\n",
      "Name: P_SEX, dtype: float64\n",
      "Total size : (1087078,)\n",
      "V_AGE_GRP column data is distributed as below: \n",
      "\n",
      "1     0.339749\n",
      "2     0.326076\n",
      "3     0.236991\n",
      "4     0.075601\n",
      "5     0.015514\n",
      "6     0.003756\n",
      "7     0.001229\n",
      "8     0.000522\n",
      "9     0.000270\n",
      "10    0.000127\n",
      "11    0.000043\n",
      "13    0.000032\n",
      "12    0.000030\n",
      "14    0.000013\n",
      "15    0.000013\n",
      "17    0.000011\n",
      "16    0.000009\n",
      "20    0.000006\n",
      "19    0.000004\n",
      "18    0.000003\n",
      "21    0.000002\n",
      "Name: V_AGE_GRP, dtype: float64\n",
      "Total size : (1087078,)\n",
      "P_AGE_GRP column data is distributed as below: \n",
      "\n",
      "5    0.178872\n",
      "6    0.165903\n",
      "7    0.154847\n",
      "4    0.118750\n",
      "8    0.103502\n",
      "9    0.096825\n",
      "3    0.092176\n",
      "2    0.061926\n",
      "1    0.027199\n",
      "Name: P_AGE_GRP, dtype: float64\n",
      "Total size : (1087078,)\n",
      "P_PSN column data is distributed as below: \n",
      "\n",
      "11    0.689017\n",
      "13    0.176685\n",
      "23    0.055337\n",
      "21    0.043936\n",
      "22    0.015325\n",
      "12    0.010938\n",
      "32    0.004637\n",
      "96    0.003023\n",
      "33    0.000581\n",
      "31    0.000452\n",
      "97    0.000035\n",
      "98    0.000034\n",
      "Name: P_PSN, dtype: float64\n",
      "Total size : (1087078,)\n",
      "P_SAFE column data is distributed as below: \n",
      "\n",
      "02    0.957893\n",
      "01    0.013875\n",
      "09    0.013246\n",
      "13    0.009535\n",
      "12    0.005446\n",
      "10    0.000006\n",
      "Name: P_SAFE, dtype: float64\n",
      "Total size : (1087078,)\n",
      "P_USER column data is distributed as below: \n",
      "\n",
      "1    0.676174\n",
      "2    0.308445\n",
      "5    0.013861\n",
      "4    0.001520\n",
      "Name: P_USER, dtype: float64\n",
      "Total size : (1087078,)\n",
      "P_ISEV column data is distributed as below: \n",
      "\n",
      "2    0.528831\n",
      "1    0.466363\n",
      "3    0.004806\n",
      "Name: P_ISEV, dtype: float64\n",
      "Total size : (1087078,)\n"
     ]
    }
   ],
   "source": [
    "cdata.get_data_stats(data_cleaned,pm.columns_stats)"
   ]
  },
  {
   "cell_type": "code",
   "execution_count": 7,
   "metadata": {
    "colab": {},
    "colab_type": "code",
    "id": "ZTMmirJK5IQz"
   },
   "outputs": [],
   "source": [
    "import creat_ML_data as MLdata"
   ]
  },
  {
   "cell_type": "code",
   "execution_count": 8,
   "metadata": {
    "colab": {},
    "colab_type": "code",
    "id": "A863mrYp2dRT"
   },
   "outputs": [],
   "source": [
    "data_selected = MLdata.create_data_for_ML(data_cleaned, pm.traffic_data_headers, pm.dummy_fields, pm.regression)"
   ]
  },
  {
   "cell_type": "code",
   "execution_count": 9,
   "metadata": {
    "colab": {},
    "colab_type": "code",
    "id": "3oBHwzdK21Fv"
   },
   "outputs": [],
   "source": [
    "test_data, train_x, test_x, train_y, test_y = MLdata.train_test_data(data_selected,pm.time,pm.test_size,pm.year,pm.interval,pm.traffic_data_headers)"
   ]
  },
  {
   "cell_type": "code",
   "execution_count": 10,
   "metadata": {
    "colab": {},
    "colab_type": "code",
    "id": "ULtvC3NN5TlJ"
   },
   "outputs": [],
   "source": [
    "import LR_model_present as LRmp\n",
    "import Tree_model_present as Tmp"
   ]
  },
  {
   "cell_type": "code",
   "execution_count": 11,
   "metadata": {
    "colab": {
     "base_uri": "https://localhost:8080/",
     "height": 224
    },
    "colab_type": "code",
    "id": "QrHb8tSP3Od_",
    "outputId": "fc80f755-b3d0-4c6f-da1f-ee5650a3f740"
   },
   "outputs": [
    {
     "name": "stdout",
     "output_type": "stream",
     "text": [
      "1：No Injury\n",
      " 2:Injury\n",
      " 3:Fatal\n",
      "\n",
      "tree parameter {'class_weight': 'balanced', 'criterion': 'gini', 'max_depth': 1, 'max_features': None, 'max_leaf_nodes': None, 'min_impurity_decrease': 0.0, 'min_impurity_split': None, 'min_samples_leaf': 1, 'min_samples_split': 2, 'min_weight_fraction_leaf': 0.0, 'presort': False, 'random_state': None, 'splitter': 'best'}\n",
      "tree depth 1\n",
      "Decision Tree Train Accuracy :  0.2334978861393797 \n",
      "\n",
      "Decision Tree Test Accuracy :  0.22521453350374293 \n",
      "\n",
      "tree parameter {'class_weight': 'balanced', 'criterion': 'gini', 'max_depth': 2, 'max_features': None, 'max_leaf_nodes': None, 'min_impurity_decrease': 0.0, 'min_impurity_split': None, 'min_samples_leaf': 1, 'min_samples_split': 2, 'min_weight_fraction_leaf': 0.0, 'presort': False, 'random_state': None, 'splitter': 'best'}\n",
      "tree depth 2\n",
      "Decision Tree Train Accuracy :  0.5027062115583824 \n",
      "\n",
      "Decision Tree Test Accuracy :  0.5050514271803299 \n",
      "\n",
      "tree parameter {'class_weight': 'balanced', 'criterion': 'gini', 'max_depth': 3, 'max_features': None, 'max_leaf_nodes': None, 'min_impurity_decrease': 0.0, 'min_impurity_split': None, 'min_samples_leaf': 1, 'min_samples_split': 2, 'min_weight_fraction_leaf': 0.0, 'presort': False, 'random_state': None, 'splitter': 'best'}\n",
      "tree depth 3\n",
      "Decision Tree Train Accuracy :  0.5356066554789035 \n",
      "\n",
      "Decision Tree Test Accuracy :  0.5398180269003713 \n",
      "\n",
      "tree parameter {'class_weight': 'balanced', 'criterion': 'gini', 'max_depth': 4, 'max_features': None, 'max_leaf_nodes': None, 'min_impurity_decrease': 0.0, 'min_impurity_split': None, 'min_samples_leaf': 1, 'min_samples_split': 2, 'min_weight_fraction_leaf': 0.0, 'presort': False, 'random_state': None, 'splitter': 'best'}\n",
      "tree depth 4\n",
      "Decision Tree Train Accuracy :  0.536475110490584 \n",
      "\n",
      "Decision Tree Test Accuracy :  0.5424350313431927 \n",
      "\n",
      "tree parameter {'class_weight': 'balanced', 'criterion': 'gini', 'max_depth': 5, 'max_features': None, 'max_leaf_nodes': None, 'min_impurity_decrease': 0.0, 'min_impurity_split': None, 'min_samples_leaf': 1, 'min_samples_split': 2, 'min_weight_fraction_leaf': 0.0, 'presort': False, 'random_state': None, 'splitter': 'best'}\n",
      "tree depth 5\n",
      "Decision Tree Train Accuracy :  0.501614523465909 \n",
      "\n",
      "Decision Tree Test Accuracy :  0.5013693627898484 \n",
      "\n"
     ]
    },
    {
     "data": {
      "image/png": "[encoded data removed]",
      "text/plain": [
       "<Figure size 840x600 with 1 Axes>"
      ]
     },
     "metadata": {
      "needs_background": "light"
     },
     "output_type": "display_data"
    }
   ],
   "source": [
    "import warnings\n",
    "warnings.filterwarnings(\"ignore\")\n",
    "%matplotlib inline\n",
    "if pm.regression =='lr':\n",
    "  file_name = 't_{}_tst{}_trn{}_C_{}_pnt_{}_cw_{}_mltc_{}_svr_{}_cv_{}'.format(pm.time,pm.year,pm.interval,pm.C,pm.penalty,pm.classweight,pm.multi_class,pm.solver,pm.cv)\n",
    "  result, all_model = LRmp.build_model_LR(train_x,train_y,test_x,test_y,pm.C,pm.penalty,pm.classweight,pm.multi_class,pm.solver,pm.cv)\n",
    "elif pm.regression =='tree':\n",
    "  file_name = 't_{}_tst{}_trn{}_dep_{}_splt_{}_crt_{}_cw_{}'.format(pm.time,pm.year,pm.interval,pm.max_dep,pm.split_type,pm.crt_type,pm.classweight)\n",
    "  result, all_model = Tmp.build_model_tree(train_x,train_y,test_x,test_y,pm.max_dep,pm.split_type,pm.crt_type,pm.classweight)"
   ]
  },
  {
   "cell_type": "code",
   "execution_count": 18,
   "metadata": {},
   "outputs": [
    {
     "name": "stdout",
     "output_type": "stream",
     "text": [
      "\n",
      "model 0: \n",
      " {'class_weight': 'balanced', 'criterion': 'gini', 'max_depth': 1, 'max_features': None, 'max_leaf_nodes': None, 'min_impurity_decrease': 0.0, 'min_impurity_split': None, 'min_samples_leaf': 1, 'min_samples_split': 2, 'min_weight_fraction_leaf': 0.0, 'presort': False, 'random_state': None, 'splitter': 'best'}\n",
      "\n",
      "model 1: \n",
      " {'class_weight': 'balanced', 'criterion': 'gini', 'max_depth': 2, 'max_features': None, 'max_leaf_nodes': None, 'min_impurity_decrease': 0.0, 'min_impurity_split': None, 'min_samples_leaf': 1, 'min_samples_split': 2, 'min_weight_fraction_leaf': 0.0, 'presort': False, 'random_state': None, 'splitter': 'best'}\n",
      "\n",
      "model 2: \n",
      " {'class_weight': 'balanced', 'criterion': 'gini', 'max_depth': 3, 'max_features': None, 'max_leaf_nodes': None, 'min_impurity_decrease': 0.0, 'min_impurity_split': None, 'min_samples_leaf': 1, 'min_samples_split': 2, 'min_weight_fraction_leaf': 0.0, 'presort': False, 'random_state': None, 'splitter': 'best'}\n",
      "\n",
      "model 3: \n",
      " {'class_weight': 'balanced', 'criterion': 'gini', 'max_depth': 4, 'max_features': None, 'max_leaf_nodes': None, 'min_impurity_decrease': 0.0, 'min_impurity_split': None, 'min_samples_leaf': 1, 'min_samples_split': 2, 'min_weight_fraction_leaf': 0.0, 'presort': False, 'random_state': None, 'splitter': 'best'}\n",
      "\n",
      "model 4: \n",
      " {'class_weight': 'balanced', 'criterion': 'gini', 'max_depth': 5, 'max_features': None, 'max_leaf_nodes': None, 'min_impurity_decrease': 0.0, 'min_impurity_split': None, 'min_samples_leaf': 1, 'min_samples_split': 2, 'min_weight_fraction_leaf': 0.0, 'presort': False, 'random_state': None, 'splitter': 'best'}\n"
     ]
    }
   ],
   "source": [
    "import local_Result_Analysis as RA\n",
    "allmodel_Acc_error_mean_sqrt,allmodel_victim_error_mean_sqrt,allmodel_Acc_error_mean,allmodel_victim_error_mean = RA.compare_model(test_data, test_x, all_model,pm.money_path)\n",
    "allmodel_Acc_error_mean_sqrt.to_csv(file_name+'allmodel_Acc_error_mean_sqrt.csv')\n",
    "allmodel_victim_error_mean_sqrt.to_csv(file_name+'allmodel_victim_error_mean_sqrt.csv')\n",
    "allmodel_Acc_error_mean.to_csv(file_name+'allmodel_Acc_error_mean.csv')\n",
    "allmodel_victim_error_mean.to_csv(file_name+'allmodel_victim_error_mean.csv')"
   ]
  },
  {
   "cell_type": "code",
   "execution_count": null,
   "metadata": {},
   "outputs": [],
   "source": []
  }
 ],
 "metadata": {
  "accelerator": "GPU",
  "colab": {
   "collapsed_sections": [],
   "name": "test.ipynb",
   "provenance": [],
   "toc_visible": true
  },
  "kernelspec": {
   "display_name": "Python 3",
   "language": "python",
   "name": "python3"
  },
  "language_info": {
   "codemirror_mode": {
    "name": "ipython",
    "version": 3
   },
   "file_extension": ".py",
   "mimetype": "text/x-python",
   "name": "python",
   "nbconvert_exporter": "python",
   "pygments_lexer": "ipython3",
   "version": "3.7.4"
  }
 },
 "nbformat": 4,
 "nbformat_minor": 4
}
