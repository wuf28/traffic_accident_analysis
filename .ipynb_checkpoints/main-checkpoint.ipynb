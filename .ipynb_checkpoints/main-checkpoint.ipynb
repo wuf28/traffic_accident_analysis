{
 "cells": [
  {
   "cell_type": "code",
   "execution_count": 1,
   "metadata": {
    "colab": {
     "base_uri": "https://localhost:8080/",
     "height": 367
    },
    "colab_type": "code",
    "id": "14dYVAVpP6Hn",
    "outputId": "c0d4f86a-9957-4af5-8f2a-95db470c6961"
   },
   "outputs": [
    {
     "name": "stdout",
     "output_type": "stream",
     "text": [
      "Current Time = 030620_20_18\n"
     ]
    }
   ],
   "source": [
    "from datetime import datetime\n",
    "import os\n",
    "import time\n",
    "start_time = time.time()\n",
    "now = datetime.now()\n",
    "folderdir = now.strftime(\"%D_%H_%M\").replace('/','')\n",
    "print(\"Current Time =\", folderdir)\n",
    "os.makedirs(folderdir) "
   ]
  },
  {
   "cell_type": "code",
   "execution_count": 2,
   "metadata": {},
   "outputs": [
    {
     "name": "stdout",
     "output_type": "stream",
     "text": [
      "\n",
      "Total Population involed in all traffic accidents:  6772563\n",
      "\n",
      "Total number of all traffic accidents:  2570235\n"
     ]
    }
   ],
   "source": [
    "import local_load_data as ldata\n",
    "import local_param as pm\n",
    "import clean_data as cdata\n",
    "import warnings\n",
    "warnings.filterwarnings(\"ignore\")\n",
    "data_All_years = ldata.start_load(pm.csv_file)\n",
    "#data_years = ldata.get_TrafficData_CSV_year(data_All_years,pm.y_start,pm.y_end)"
   ]
  },
  {
   "cell_type": "code",
   "execution_count": null,
   "metadata": {
    "colab": {},
    "colab_type": "code",
    "id": "9w2_L5UYaoEh"
   },
   "outputs": [],
   "source": [
    "data_cleaned = cdata.data_clean_columns(data_All_years,pm.columns_clean,v_num=pm.v_num)\n",
    "data_cleaned = cdata.modify_data(data_cleaned,pm.columns_grp)\n",
    "cdata.get_data_stats(data_cleaned,pm.columns_stats)"
   ]
  },
  {
   "cell_type": "code",
   "execution_count": null,
   "metadata": {
    "colab": {},
    "colab_type": "code",
    "id": "ZTMmirJK5IQz"
   },
   "outputs": [],
   "source": [
    "import creat_ML_data as MLdata\n",
    "data_selected = MLdata.create_data_for_ML(data_cleaned, pm.traffic_data_headers, pm.dummy_fields, pm.regression)"
   ]
  },
  {
   "cell_type": "code",
   "execution_count": null,
   "metadata": {
    "colab": {},
    "colab_type": "code",
    "id": "A863mrYp2dRT"
   },
   "outputs": [],
   "source": [
    "data_selected = MLdata.create_data_for_ML(data_cleaned, pm.traffic_data_headers, pm.dummy_fields, pm.regression)\n",
    "test_data, train_x, test_x, train_y, test_y = MLdata.train_test_data(data_selected,pm.time,pm.test_size,pm.year,pm.interval,pm.traffic_data_headers)\n",
    "from sklearn.utils import class_weight\n",
    "import numpy as np\n",
    "class_weight.compute_class_weight('balanced', np.unique(train_y), train_y)"
   ]
  },
  {
   "cell_type": "code",
   "execution_count": null,
   "metadata": {
    "colab": {},
    "colab_type": "code",
    "id": "ULtvC3NN5TlJ"
   },
   "outputs": [],
   "source": [
    "import LR_model_present as LRmp\n",
    "import Tree_model_present as Tmp\n",
    "import warnings\n",
    "warnings.filterwarnings(\"ignore\")\n",
    "%matplotlib inline\n",
    "if pm.regression =='lr':\n",
    "  file_name = 't_{}_tst{}_trn{}_Csize_{}_pnt_{}_cw_{}_mltc_{}_svr_{}_cv_{}'.format(pm.time,pm.year,pm.interval,len(pm.C),pm.penalty,pm.classweight,pm.multi_class,pm.solver,pm.cv)\n",
    "  result, all_model = LRmp.build_model_LR(train_x,train_y,test_x,test_y,pm.C,pm.penalty,pm.classweight,pm.multi_class,pm.solver,pm.cv)\n",
    "elif pm.regression =='tree':\n",
    "  file_name = 't_{}_tst{}_trn{}_dep_{}_splt_{}_crt_{}_cw_{}'.format(pm.time,pm.year,pm.interval,pm.max_dep,pm.split_type,pm.crt_type,pm.classweight)\n",
    "  result, all_model = Tmp.build_model_tree(train_x,train_y,test_x,test_y,pm.max_dep,pm.split_type,pm.crt_type,pm.classweight)"
   ]
  },
  {
   "cell_type": "code",
   "execution_count": null,
   "metadata": {},
   "outputs": [],
   "source": [
    "# import pandas as pd\n",
    "# PDO_coef = all_model[0].coef_[0]\n",
    "# Injury_coef = all_model[0].coef_[1]\n",
    "# Fatal_coef = all_model[0].coef_[2]\n",
    "# all_model[0].intercept_\n",
    "# coeff = test_data.columns.copy()\n",
    "# coeff = coeff.to_list()\n",
    "# coeff.remove('C_CASE')\n",
    "# coeff.remove('P_ISEV')\n",
    "# coeff_data = pd.DataFrame(all_model[0].coef_,columns = coeff,index=['PDO_coef','Injury_coef','Fatal_coef'])\n",
    "# coeff_data.to_csv('coeff_data.csv')\n",
    "# i = 0\n",
    "# coeff_data_all = pd.DataFrame()\n",
    "# for model in all_model:\n",
    "#     coeff_data\n",
    "# coeff_data.to_csv('coeff_data.csv')"
   ]
  },
  {
   "cell_type": "code",
   "execution_count": null,
   "metadata": {},
   "outputs": [],
   "source": [
    "orders = ['Accuracy']  + [col for col in result if col != 'Accuracy']\n",
    "result = result[orders]\n",
    "file_name = '{}\\t_{}_tst{}_trn{}_Csize_{}_pnt_{}_cw_{}_mltc_{}_svr_{}_cv_{}'.format(folderdir,pm.time,pm.year,pm.interval,len(pm.C),pm.penalty,pm.classweight,pm.multi_class,pm.solver,pm.cv)\n",
    "result.to_csv(file_name+pm.regression+'_accuracy_result'+'.csv') \n",
    "import local_Result_Analysis as RA\n",
    "allmodel_Acc_error_mean_sqrt,allmodel_victim_error_mean_sqrt,allmodel_Acc_error_mean,allmodel_victim_error_mean = RA.compare_model(test_data, test_x, all_model,pm.money_path)\n",
    "allmodel_Acc_error_mean_sqrt.to_csv(file_name+'allmodel_Acc_error_mean_sqrt.csv')\n",
    "allmodel_victim_error_mean_sqrt.to_csv(file_name+'allmodel_victim_error_mean_sqrt.csv')\n",
    "allmodel_Acc_error_mean.to_csv(file_name+'allmodel_Acc_error_mean.csv')\n",
    "allmodel_victim_error_mean.to_csv(file_name+'allmodel_victim_error_mean.csv')"
   ]
  },
  {
   "cell_type": "code",
   "execution_count": null,
   "metadata": {},
   "outputs": [],
   "source": [
    "print(\"--- %s seconds ---\" % (time.time() - start_time))"
   ]
  },
  {
   "cell_type": "code",
   "execution_count": null,
   "metadata": {},
   "outputs": [],
   "source": []
  }
 ],
 "metadata": {
  "accelerator": "GPU",
  "colab": {
   "collapsed_sections": [],
   "name": "test.ipynb",
   "provenance": [],
   "toc_visible": true
  },
  "kernelspec": {
   "display_name": "Python 3",
   "language": "python",
   "name": "python3"
  },
  "language_info": {
   "codemirror_mode": {
    "name": "ipython",
    "version": 3
   },
   "file_extension": ".py",
   "mimetype": "text/x-python",
   "name": "python",
   "nbconvert_exporter": "python",
   "pygments_lexer": "ipython3",
   "version": "3.7.4"
  }
 },
 "nbformat": 4,
 "nbformat_minor": 4
}
